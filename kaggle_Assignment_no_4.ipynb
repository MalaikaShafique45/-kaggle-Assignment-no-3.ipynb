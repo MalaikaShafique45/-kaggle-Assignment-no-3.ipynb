{
  "nbformat": 4,
  "nbformat_minor": 0,
  "metadata": {
    "colab": {
      "provenance": []
    },
    "kernelspec": {
      "name": "python3",
      "display_name": "Python 3"
    },
    "language_info": {
      "name": "python"
    }
  },
  "cells": [
    {
      "cell_type": "code",
      "execution_count": 1,
      "metadata": {
        "colab": {
          "base_uri": "https://localhost:8080/",
          "height": 106
        },
        "id": "-nM4fmhJp6nI",
        "outputId": "422eaadd-5ff7-481b-dc77-ca238d707282"
      },
      "outputs": [
        {
          "output_type": "error",
          "ename": "SyntaxError",
          "evalue": "invalid syntax (<ipython-input-1-3a3c17563aa3>, line 1)",
          "traceback": [
            "\u001b[0;36m  File \u001b[0;32m\"<ipython-input-1-3a3c17563aa3>\"\u001b[0;36m, line \u001b[0;32m1\u001b[0m\n\u001b[0;31m    Code:\u001b[0m\n\u001b[0m         ^\u001b[0m\n\u001b[0;31mSyntaxError\u001b[0m\u001b[0;31m:\u001b[0m invalid syntax\n"
          ]
        }
      ],
      "source": [
        "Code:\n",
        "import pandas as pd\n",
        "import matplotlib.pyplot as plt\n",
        "import seaborn as sns\n",
        "\n",
        "# Step 1: Data Loading\n",
        "# Assume you have downloaded 'train.csv' from Kaggle and placed it in your working directory\n",
        "df = pd.read_csv('train.csv')\n",
        "\n",
        "# Step 2: Data Exploration\n",
        "# Print the first few rows\n",
        "print(\"First 5 rows of the dataset:\")\n",
        "print(df.head())\n",
        "\n",
        "# Check the structure of the dataset\n",
        "print(\"\\nDataset structure:\")\n",
        "print(df.info())\n",
        "\n",
        "# Summary statistics\n",
        "print(\"\\nSummary statistics:\")\n",
        "print(df.describe())\n",
        "\n",
        "# Step 3: Data Cleaning\n",
        "# Handle missing values\n",
        "print(\"\\nMissing values:\")\n",
        "print(df.isnull().sum())\n",
        "\n",
        "# Drop duplicates if any\n",
        "df.drop_duplicates(inplace=True)\n",
        "\n",
        "# Step 4: Data Visualization\n",
        "# Example visualizations\n",
        "# 1. Count plot of survivors\n",
        "plt.figure(figsize=(8, 6))\n",
        "sns.countplot(x='Survived', data=df)\n",
        "plt.title('Count of Survivors')\n",
        "plt.xlabel('Survived')\n",
        "plt.ylabel('Count')\n",
        "plt.xticks([0, 1], ['No', 'Yes'])\n",
        "plt.show()\n",
        "\n",
        "# Analysis and Insights for Count plot of survivors\n",
        "# This plot shows the distribution of survivors (0 = did not survive, 1 = survived).\n",
        "# Insights: We can see that more passengers did not survive compared to those who did.\n",
        "\n",
        "# 2. Histogram of age distribution\n",
        "plt.figure(figsize=(8, 6))\n",
        "sns.histplot(df['Age'].dropna(), bins=20, kde=True)\n",
        "plt.title('Age Distribution')\n",
        "plt.xlabel('Age')\n",
        "plt.ylabel('Count')\n",
        "plt.show()\n",
        "\n",
        "# Analysis and Insights for Age Distribution\n",
        "# This histogram shows the distribution of ages among passengers.\n",
        "# Insights: The majority of passengers were in their twenties and thirties. There were also a notable number of children.\n",
        "\n",
        "# Step 5: Analysis and Insights (continued)\n",
        "# You can continue to explore and analyze the dataset using various visualizations and methods.\n",
        "# For example, you could create scatter plots, box plots, correlation matrices, etc., to derive further insights.\n",
        "\n",
        "# Example: Correlation matrix\n",
        "plt.figure(figsize=(10, 8))\n",
        "sns.heatmap(df.corr(), annot=True, cmap='coolwarm', vmin=-1, vmax=1)\n",
        "plt.title('Correlation Matrix')\n",
        "plt.show()\n",
        "\n"
      ]
    }
  ]
}